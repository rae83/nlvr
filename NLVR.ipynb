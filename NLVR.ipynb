{
 "cells": [
  {
   "cell_type": "markdown",
   "metadata": {},
   "source": [
    "# Natural Language Visual Reasoning\n",
    "\n",
    "Experiment based on data from the Cornell NLVR project: http://lic.nlp.cornell.edu/nlvr/\n",
    "\n",
    "Cornell Github: https://github.com/clic-lab/nlvr\n",
    "\n",
    "This project Github: \n",
    "\n",
    "Keras for image classification reference: https://blog.keras.io/building-powerful-image-classification-models-using-very-little-data.html"
   ]
  },
  {
   "cell_type": "code",
   "execution_count": 39,
   "metadata": {},
   "outputs": [
    {
     "name": "stderr",
     "output_type": "stream",
     "text": [
      "/usr/local/lib/python3.6/site-packages/h5py/__init__.py:36: FutureWarning: Conversion of the second argument of issubdtype from `float` to `np.floating` is deprecated. In future, it will be treated as `np.float64 == np.dtype(float).type`.\n",
      "  from ._conv import register_converters as _register_converters\n",
      "Using TensorFlow backend.\n",
      "/usr/local/Cellar/python3/3.6.3/Frameworks/Python.framework/Versions/3.6/lib/python3.6/importlib/_bootstrap.py:219: RuntimeWarning: compiletime version 3.5 of module 'tensorflow.python.framework.fast_tensor_util' does not match runtime version 3.6\n",
      "  return f(*args, **kwds)\n"
     ]
    }
   ],
   "source": [
    "# Imports\n",
    "import json\n",
    "import numpy as np\n",
    "\n",
    "from keras.models import Sequential\n",
    "from keras.layers import Conv2D, MaxPooling2D\n",
    "from keras.layers import Activation, Dropout, Flatten, Dense\n",
    "from keras.preprocessing.image import ImageDataGenerator, array_to_img, img_to_array, load_img"
   ]
  },
  {
   "cell_type": "code",
   "execution_count": 48,
   "metadata": {},
   "outputs": [
    {
     "name": "stdout",
     "output_type": "stream",
     "text": [
      "[Number of sentences]: 989\n",
      "[Example sentence]: Each grey box contains atleast one yellow object touching the edge\n",
      "[Sample image shape]: (1, 100, 400, 3)\n"
     ]
    }
   ],
   "source": [
    "# Connecting to data / opening files\n",
    "\n",
    "# Sentence data\n",
    "data = []\n",
    "for line in open('dev/dev.json', 'r'):\n",
    "    data.append(json.loads(line))\n",
    "\n",
    "print('[Number of sentences]:', len(data))\n",
    "print('[Example sentence]:', data[0]['sentence'])\n",
    "\n",
    "# Image data\n",
    "img = load_img('dev/images/0/dev-1373-0-0.png')\n",
    "img = img_to_array(img)\n",
    "img = img.reshape((1,) + img.shape)\n",
    "print('[Sample image shape]:', img.shape)\n",
    "# NOTE: need to make sure that this is the correct ordering of height, width, channels for Keras layers"
   ]
  },
  {
   "cell_type": "code",
   "execution_count": 42,
   "metadata": {},
   "outputs": [],
   "source": [
    "# Build model\n",
    "class Model():\n",
    "    \n",
    "    def __init__(self):\n",
    "        self.model = self.build()\n",
    "    \n",
    "    def build(self):\n",
    "        # Create CNN: image --> vector representation Hi\n",
    "        # Create RNN: text --> vector representation Ht\n",
    "        # Create classification model: Hi, Ht --> [0,1]\n",
    "        return\n",
    "    \n",
    "    def train(self):\n",
    "        return\n",
    "    \n",
    "    def test(self):\n",
    "        return"
   ]
  },
  {
   "cell_type": "code",
   "execution_count": 4,
   "metadata": {
    "collapsed": true
   },
   "outputs": [],
   "source": [
    "# Compile and train model"
   ]
  },
  {
   "cell_type": "code",
   "execution_count": null,
   "metadata": {
    "collapsed": true
   },
   "outputs": [],
   "source": [
    "# Test / generate output"
   ]
  }
 ],
 "metadata": {
  "kernelspec": {
   "display_name": "Python 3",
   "language": "python",
   "name": "python3"
  },
  "language_info": {
   "codemirror_mode": {
    "name": "ipython",
    "version": 3
   },
   "file_extension": ".py",
   "mimetype": "text/x-python",
   "name": "python",
   "nbconvert_exporter": "python",
   "pygments_lexer": "ipython3",
   "version": "3.6.3"
  }
 },
 "nbformat": 4,
 "nbformat_minor": 2
}
